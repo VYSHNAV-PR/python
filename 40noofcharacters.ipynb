{
 "cells": [
  {
   "cell_type": "code",
   "execution_count": 18,
   "metadata": {},
   "outputs": [
    {
     "name": "stdout",
     "output_type": "stream",
     "text": [
      "Enter the string:vivabrazil\n",
      "Frequency:\n",
      "v = 2\n",
      "i = 2\n",
      "a = 2\n",
      "b = 1\n",
      "r = 1\n",
      "z = 1\n",
      "l = 1\n"
     ]
    }
   ],
   "source": [
    "#no of characters\n",
    "ch=input(\"Enter the string:\")\n",
    "f={}\n",
    "print(\"Frequency:\")\n",
    "for i in ch:\n",
    "    if i in f:\n",
    "        f[i]=f[i]+1\n",
    "    else:\n",
    "        f[i]=1\n",
    "for keys,value in f.items():\n",
    " print(keys,\"=\",value)"
   ]
  },
  {
   "cell_type": "code",
   "execution_count": null,
   "metadata": {
    "collapsed": true
   },
   "outputs": [],
   "source": []
  }
 ],
 "metadata": {
  "kernelspec": {
   "display_name": "Python 3",
   "language": "python",
   "name": "python3"
  },
  "language_info": {
   "codemirror_mode": {
    "name": "ipython",
    "version": 3
   },
   "file_extension": ".py",
   "mimetype": "text/x-python",
   "name": "python",
   "nbconvert_exporter": "python",
   "pygments_lexer": "ipython3",
   "version": "3.6.3"
  }
 },
 "nbformat": 4,
 "nbformat_minor": 2
}
