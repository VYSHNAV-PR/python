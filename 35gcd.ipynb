{
 "cells": [
  {
   "cell_type": "code",
   "execution_count": 2,
   "metadata": {},
   "outputs": [
    {
     "name": "stdout",
     "output_type": "stream",
     "text": [
      "Enter the 1st Number:23\n",
      "Enter the 2nd Number:12\n",
      "Gcd of 23 and 12 is:1\n"
     ]
    }
   ],
   "source": [
    "#GCD of 2 numbers\n",
    "n1=int(input(\"Enter the 1st Number:\"))\n",
    "n2=int(input(\"Enter the 2nd Number:\"))\n",
    "if(n1<n2):\n",
    "    c=n1\n",
    "else:\n",
    "    c=n2\n",
    "while(c>0):\n",
    "    if(n1%c==0 and n2%c==0):\n",
    "        print(\"Gcd of\",n1,\"and\",n2,\"is:%d\"%c)\n",
    "        break\n",
    "    c=c-1"
   ]
  },
  {
   "cell_type": "code",
   "execution_count": null,
   "metadata": {
    "collapsed": true
   },
   "outputs": [],
   "source": []
  }
 ],
 "metadata": {
  "kernelspec": {
   "display_name": "Python 3",
   "language": "python",
   "name": "python3"
  },
  "language_info": {
   "codemirror_mode": {
    "name": "ipython",
    "version": 3
   },
   "file_extension": ".py",
   "mimetype": "text/x-python",
   "name": "python",
   "nbconvert_exporter": "python",
   "pygments_lexer": "ipython3",
   "version": "3.6.3"
  }
 },
 "nbformat": 4,
 "nbformat_minor": 2
}
