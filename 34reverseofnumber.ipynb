{
 "cells": [
  {
   "cell_type": "code",
   "execution_count": 8,
   "metadata": {},
   "outputs": [
    {
     "name": "stdout",
     "output_type": "stream",
     "text": [
      "Enter the Number:1222\n",
      "Reverse of a number is\n",
      "2221"
     ]
    }
   ],
   "source": [
    "#reverse of a number\n",
    "n=int(input(\"Enter the Number:\"))\n",
    "print(\"Reverse of a number is\")\n",
    "r=0\n",
    "while(n!=0):\n",
    "    digit=n%10\n",
    "    r=(r*10)+digit\n",
    "    n=n//10\n",
    "    print(digit,end=\"\")\n",
    "    "
   ]
  },
  {
   "cell_type": "code",
   "execution_count": null,
   "metadata": {
    "collapsed": true
   },
   "outputs": [],
   "source": []
  }
 ],
 "metadata": {
  "kernelspec": {
   "display_name": "Python 3",
   "language": "python",
   "name": "python3"
  },
  "language_info": {
   "codemirror_mode": {
    "name": "ipython",
    "version": 3
   },
   "file_extension": ".py",
   "mimetype": "text/x-python",
   "name": "python",
   "nbconvert_exporter": "python",
   "pygments_lexer": "ipython3",
   "version": "3.6.3"
  }
 },
 "nbformat": 4,
 "nbformat_minor": 2
}
