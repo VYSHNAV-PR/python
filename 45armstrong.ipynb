{
 "cells": [
  {
   "cell_type": "code",
   "execution_count": 8,
   "metadata": {},
   "outputs": [
    {
     "name": "stdout",
     "output_type": "stream",
     "text": [
      "Enter a number: 1634\n",
      "1634 is not an Armstrong number\n"
     ]
    }
   ],
   "source": [
    "#armstrong number\n",
    "n = int(input(\"Enter a number: \"))\n",
    "s = 0\n",
    "temp=n\n",
    "while temp > 0:\n",
    "\n",
    "   digit = temp % 10\n",
    "\n",
    "   s += digit ** 3\n",
    "\n",
    "   temp //= 10\n",
    "if n == s:\n",
    "\n",
    "   print(n,\"is an Armstrong number\")\n",
    "\n",
    "else:\n",
    "\n",
    "   print(n,\"is not an Armstrong number\")\n",
    "\n",
    "\n"
   ]
  },
  {
   "cell_type": "code",
   "execution_count": null,
   "metadata": {
    "collapsed": true
   },
   "outputs": [],
   "source": []
  }
 ],
 "metadata": {
  "kernelspec": {
   "display_name": "Python 3",
   "language": "python",
   "name": "python3"
  },
  "language_info": {
   "codemirror_mode": {
    "name": "ipython",
    "version": 3
   },
   "file_extension": ".py",
   "mimetype": "text/x-python",
   "name": "python",
   "nbconvert_exporter": "python",
   "pygments_lexer": "ipython3",
   "version": "3.6.3"
  }
 },
 "nbformat": 4,
 "nbformat_minor": 2
}
