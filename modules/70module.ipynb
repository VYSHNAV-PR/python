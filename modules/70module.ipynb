{
 "cells": [
  {
   "cell_type": "code",
   "execution_count": null,
   "metadata": {},
   "outputs": [
    {
     "name": "stdout",
     "output_type": "stream",
     "text": [
      "\n",
      "1.Area\n",
      "2.Perimeter\n",
      "3.Exit\n",
      "Enter the choice:1\n",
      "Enter the length:10\n",
      "Enter the breadth:5\n",
      "Area of rectangle: 50\n",
      "Perimeter of rectangle: 30\n",
      "\n",
      "1.Area\n",
      "2.Perimeter\n",
      "3.Exit\n",
      "Enter the choice:2\n",
      "Enter the radius:5\n",
      "Area of circle: 78.5\n",
      "Perimeter of circle: 31.400000000000002\n",
      "\n",
      "1.Area\n",
      "2.Perimeter\n",
      "3.Exit\n"
     ]
    }
   ],
   "source": [
    "#module for area and perimeter of rectangle and area\n",
    "import rectangle\n",
    "import circle\n",
    "while(1):\n",
    "    print(\"\\n1.Area\\n2.Perimeter\\n3.Exit\")\n",
    "    ch=int(input(\"Enter the choice:\"))\n",
    "    if(ch==1):\n",
    "        l=int(input(\"Enter the length:\"))\n",
    "        b=int(input(\"Enter the breadth:\"))\n",
    "        rectangle.rectarea(l,b)\n",
    "        rectangle.rectperi(l,b)\n",
    "    elif(ch==2):\n",
    "        r=int(input(\"Enter the radius:\"))\n",
    "        circle.circlearea(r)\n",
    "        circle.circleperi(r)\n",
    "    else:\n",
    "        print(\"Exiting!!...\")"
   ]
  },
  {
   "cell_type": "code",
   "execution_count": null,
   "metadata": {
    "collapsed": true
   },
   "outputs": [],
   "source": []
  }
 ],
 "metadata": {
  "kernelspec": {
   "display_name": "Python 3",
   "language": "python",
   "name": "python3"
  },
  "language_info": {
   "codemirror_mode": {
    "name": "ipython",
    "version": 3
   },
   "file_extension": ".py",
   "mimetype": "text/x-python",
   "name": "python",
   "nbconvert_exporter": "python",
   "pygments_lexer": "ipython3",
   "version": "3.6.3"
  }
 },
 "nbformat": 4,
 "nbformat_minor": 2
}
