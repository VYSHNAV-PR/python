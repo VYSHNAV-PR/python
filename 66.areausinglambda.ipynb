{
 "cells": [
  {
   "cell_type": "code",
   "execution_count": 3,
   "metadata": {},
   "outputs": [
    {
     "name": "stdout",
     "output_type": "stream",
     "text": [
      "\n",
      "1.square\n",
      "2.rectangle\n",
      "3.traingle\n",
      "4.Exit\n",
      "Enter the choice:1\n",
      "Enter the side:12\n",
      "Area of square: 144\n",
      "\n",
      "1.square\n",
      "2.rectangle\n",
      "3.traingle\n",
      "4.Exit\n",
      "Enter the choice:2\n",
      "Enter the length:10\n",
      "Enter the breadth:5\n",
      "Area of rectangle: 50\n",
      "\n",
      "1.square\n",
      "2.rectangle\n",
      "3.traingle\n",
      "4.Exit\n",
      "Enter the choice:3\n",
      "Enter the base:5\n",
      "Enter the height:7\n",
      "Area of triangle: 17.5\n",
      "\n",
      "1.square\n",
      "2.rectangle\n",
      "3.traingle\n",
      "4.Exit\n",
      "Enter the choice:4\n",
      "Exiting!!...\n"
     ]
    }
   ],
   "source": [
    "#area of square,rectangle and triangle using lambda\n",
    "sqr=lambda a:a*a;\n",
    "rec=lambda l,b:l*b;\n",
    "tri=lambda b,h:(b*h)/2;\n",
    "while(1):\n",
    "    print(\"\\n1.square\\n2.rectangle\\n3.traingle\\n4.Exit\")\n",
    "    ch=int(input(\"Enter the choice:\"))\n",
    "    if(ch==1):\n",
    "        a=int(input(\"Enter the side:\"))\n",
    "        print(\"Area of square:\",sqr(a))\n",
    "    elif(ch==2):\n",
    "        l=int(input(\"Enter the length:\"))\n",
    "        b=int(input(\"Enter the breadth:\"))\n",
    "        print(\"Area of rectangle:\",rec(l,b))\n",
    "    elif(ch==3):\n",
    "        b=int(input(\"Enter the base:\"))\n",
    "        h=int(input(\"Enter the height:\"))\n",
    "        print(\"Area of triangle:\",tri(b,h))\n",
    "    else:\n",
    "        print(\"Exiting!!...\")\n",
    "        break"
   ]
  },
  {
   "cell_type": "code",
   "execution_count": null,
   "metadata": {
    "collapsed": true
   },
   "outputs": [],
   "source": []
  }
 ],
 "metadata": {
  "kernelspec": {
   "display_name": "Python 3",
   "language": "python",
   "name": "python3"
  },
  "language_info": {
   "codemirror_mode": {
    "name": "ipython",
    "version": 3
   },
   "file_extension": ".py",
   "mimetype": "text/x-python",
   "name": "python",
   "nbconvert_exporter": "python",
   "pygments_lexer": "ipython3",
   "version": "3.6.3"
  }
 },
 "nbformat": 4,
 "nbformat_minor": 2
}
