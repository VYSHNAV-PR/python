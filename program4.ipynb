{
 "cells": [
  {
   "cell_type": "code",
   "execution_count": 1,
   "metadata": {},
   "outputs": [
    {
     "name": "stdout",
     "output_type": "stream",
     "text": [
      "Enter your number20\n",
      "\n",
      " Your Current Number: 20\n",
      "\n",
      " Next Number: 21\n",
      "\n",
      " Previous Number: 19\n"
     ]
    }
   ],
   "source": [
    "a=int(input(\"Enter your number\"))\n",
    "print(\"\\n Your Current Number:\",a)\n",
    "print(\"\\n Next Number:\",a+1)\n",
    "print(\"\\n Previous Number:\",a-1)"
   ]
  },
  {
   "cell_type": "code",
   "execution_count": null,
   "metadata": {
    "collapsed": true
   },
   "outputs": [],
   "source": []
  }
 ],
 "metadata": {
  "kernelspec": {
   "display_name": "Python 3",
   "language": "python",
   "name": "python3"
  },
  "language_info": {
   "codemirror_mode": {
    "name": "ipython",
    "version": 3
   },
   "file_extension": ".py",
   "mimetype": "text/x-python",
   "name": "python",
   "nbconvert_exporter": "python",
   "pygments_lexer": "ipython3",
   "version": "3.6.3"
  }
 },
 "nbformat": 4,
 "nbformat_minor": 2
}
