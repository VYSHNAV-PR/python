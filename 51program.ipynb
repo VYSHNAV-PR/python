{
 "cells": [
  {
   "cell_type": "code",
   "execution_count": 4,
   "metadata": {},
   "outputs": [
    {
     "name": "stdout",
     "output_type": "stream",
     "text": [
      "Enter an integer (enter 'done' to stop): 100\n",
      "Enter an integer (enter 'done' to stop): 120\n",
      "Enter an integer (enter 'done' to stop): 130\n",
      "Enter an integer (enter 'done' to stop): done\n",
      "[100, 'over', 'over']\n"
     ]
    }
   ],
   "source": [
    "values = []\n",
    "while True:\n",
    "  value = input(\"Enter an integer (enter 'done' to stop): \")\n",
    "  if (value == 'done'):\n",
    "    break\n",
    "  elif int(value) > 100:\n",
    "    values.append('over')\n",
    "  else:\n",
    "    values.append(int(value))\n",
    "print(values)"
   ]
  },
  {
   "cell_type": "code",
   "execution_count": null,
   "metadata": {
    "collapsed": true
   },
   "outputs": [],
   "source": []
  }
 ],
 "metadata": {
  "kernelspec": {
   "display_name": "Python 3",
   "language": "python",
   "name": "python3"
  },
  "language_info": {
   "codemirror_mode": {
    "name": "ipython",
    "version": 3
   },
   "file_extension": ".py",
   "mimetype": "text/x-python",
   "name": "python",
   "nbconvert_exporter": "python",
   "pygments_lexer": "ipython3",
   "version": "3.6.3"
  }
 },
 "nbformat": 4,
 "nbformat_minor": 2
}
