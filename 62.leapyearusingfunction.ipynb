{
 "cells": [
  {
   "cell_type": "code",
   "execution_count": 3,
   "metadata": {},
   "outputs": [
    {
     "name": "stdout",
     "output_type": "stream",
     "text": [
      "Enter the current year:2023\n",
      "Enter the ending year:2040\n",
      "Leap year between 2023 and 2040 :\n",
      "2024\n",
      "2028\n",
      "2032\n",
      "2036\n",
      "2040\n"
     ]
    }
   ],
   "source": [
    "#display future leap year from current\n",
    "def leapyear(start,end):\n",
    "    print(\"Leap year between\",start,\"and\",end,\":\")\n",
    "    for i in range(start,end+1):\n",
    "        if(i%4==0 and i%100!=0 or i%400==0):\n",
    "            print(i)\n",
    "st=int(input(\"Enter the current year:\"))\n",
    "en=int(input(\"Enter the ending year:\"))\n",
    "leapyear(st,en)"
   ]
  },
  {
   "cell_type": "code",
   "execution_count": null,
   "metadata": {
    "collapsed": true
   },
   "outputs": [],
   "source": []
  }
 ],
 "metadata": {
  "kernelspec": {
   "display_name": "Python 3",
   "language": "python",
   "name": "python3"
  },
  "language_info": {
   "codemirror_mode": {
    "name": "ipython",
    "version": 3
   },
   "file_extension": ".py",
   "mimetype": "text/x-python",
   "name": "python",
   "nbconvert_exporter": "python",
   "pygments_lexer": "ipython3",
   "version": "3.6.3"
  }
 },
 "nbformat": 4,
 "nbformat_minor": 2
}
