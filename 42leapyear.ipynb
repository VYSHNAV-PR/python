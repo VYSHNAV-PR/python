{
 "cells": [
  {
   "cell_type": "code",
   "execution_count": 1,
   "metadata": {},
   "outputs": [
    {
     "name": "stdout",
     "output_type": "stream",
     "text": [
      "Enter the starting year:1996\n",
      "Enter the Ending year:2020\n",
      "Leap year from 1996 to 2020 is:\n",
      "1996\n",
      "2000\n",
      "2004\n",
      "2008\n",
      "2012\n",
      "2016\n"
     ]
    }
   ],
   "source": [
    "#leapyear\n",
    "startyear=int(input(\"Enter the starting year:\"))\n",
    "endyear=int(input(\"Enter the Ending year:\"))\n",
    "print(\"Leap year from\",startyear,\"to\",endyear,\"is:\")\n",
    "for year in range(startyear,endyear):\n",
    "    if(year%4==0 and year%100!=0 or year%400==0):\n",
    "        print(year)"
   ]
  },
  {
   "cell_type": "code",
   "execution_count": null,
   "metadata": {
    "collapsed": true
   },
   "outputs": [],
   "source": []
  }
 ],
 "metadata": {
  "kernelspec": {
   "display_name": "Python 3",
   "language": "python",
   "name": "python3"
  },
  "language_info": {
   "codemirror_mode": {
    "name": "ipython",
    "version": 3
   },
   "file_extension": ".py",
   "mimetype": "text/x-python",
   "name": "python",
   "nbconvert_exporter": "python",
   "pygments_lexer": "ipython3",
   "version": "3.6.3"
  }
 },
 "nbformat": 4,
 "nbformat_minor": 2
}
