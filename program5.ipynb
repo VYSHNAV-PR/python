{
 "cells": [
  {
   "cell_type": "code",
   "execution_count": 1,
   "metadata": {},
   "outputs": [
    {
     "name": "stdout",
     "output_type": "stream",
     "text": [
      "Enter the principle amount:1000\n",
      "Enter the no of years:2\n",
      "Enter the rate of interest(in %):10\n",
      "Simple Interest : 200.0\n"
     ]
    }
   ],
   "source": [
    "p=float(input(\"Enter the principle amount:\"))\n",
    "n=float(input(\"Enter the no of years:\"))\n",
    "r=float(input(\"Enter the rate of interest(in %):\"))\n",
    "si=(p*n*r)/100\n",
    "print(\"Simple Interest :\",si)"
   ]
  },
  {
   "cell_type": "code",
   "execution_count": null,
   "metadata": {
    "collapsed": true
   },
   "outputs": [],
   "source": []
  }
 ],
 "metadata": {
  "kernelspec": {
   "display_name": "Python 3",
   "language": "python",
   "name": "python3"
  },
  "language_info": {
   "codemirror_mode": {
    "name": "ipython",
    "version": 3
   },
   "file_extension": ".py",
   "mimetype": "text/x-python",
   "name": "python",
   "nbconvert_exporter": "python",
   "pygments_lexer": "ipython3",
   "version": "3.6.3"
  }
 },
 "nbformat": 4,
 "nbformat_minor": 2
}
